{
 "cells": [
  {
   "cell_type": "code",
   "execution_count": 1,
   "metadata": {},
   "outputs": [],
   "source": [
    "# Import dependencies\n",
    "import pandas as pd\n",
    "import numpy as np"
   ]
  },
  {
   "cell_type": "code",
   "execution_count": 2,
   "metadata": {},
   "outputs": [
    {
     "name": "stderr",
     "output_type": "stream",
     "text": [
      "C:\\Users\\spo.DT\\Anaconda3\\envs\\mlenv\\lib\\site-packages\\IPython\\core\\interactiveshell.py:3063: DtypeWarning: Columns (190,202) have mixed types.Specify dtype option on import or set low_memory=False.\n",
      "  interactivity=interactivity, compiler=compiler, result=result)\n"
     ]
    }
   ],
   "source": [
    "# Read original database\n",
    "hw_df = pd.read_csv('US_counties_COVID19_health_weather_data.csv')"
   ]
  },
  {
   "cell_type": "code",
   "execution_count": 3,
   "metadata": {},
   "outputs": [],
   "source": [
    "# Find the most recent date of data collection\n",
    "max_date = hw_df['date'].max()"
   ]
  },
  {
   "cell_type": "code",
   "execution_count": 4,
   "metadata": {},
   "outputs": [
    {
     "data": {
      "text/plain": [
       "True"
      ]
     },
     "execution_count": 4,
     "metadata": {},
     "output_type": "execute_result"
    }
   ],
   "source": [
    "# Make sure all the counties have info for most recent date of data collection\n",
    "max_date == hw_df[['fips','date']].groupby('fips').max().reset_index()['date'].unique()[0]"
   ]
  },
  {
   "cell_type": "code",
   "execution_count": 5,
   "metadata": {},
   "outputs": [
    {
     "data": {
      "text/plain": [
       "2942"
      ]
     },
     "execution_count": 5,
     "metadata": {},
     "output_type": "execute_result"
    }
   ],
   "source": [
    "# Filter the original dataframe to the max_date\n",
    "hw_date = hw_df[hw_df['date'] == max_date].reset_index(drop=True)\n",
    "len(hw_date)"
   ]
  },
  {
   "cell_type": "code",
   "execution_count": 6,
   "metadata": {},
   "outputs": [],
   "source": [
    "# Find US average for each parameter - if applicable\n",
    "col_w_US_mean = pd.DataFrame(hw_date.mean()).dropna().index.tolist()\n",
    "col_wo_US_mean = set(hw_date.columns) - set(col_w_US_mean)\n",
    "hw_US_mean_df = pd.DataFrame(hw_date[col_w_US_mean].mean()).T"
   ]
  },
  {
   "cell_type": "code",
   "execution_count": 11,
   "metadata": {},
   "outputs": [],
   "source": [
    "# Group data by state, and get the average value\n",
    "hw_state = hw_date.groupby(['state']).mean().reset_index()"
   ]
  },
  {
   "cell_type": "code",
   "execution_count": 20,
   "metadata": {},
   "outputs": [],
   "source": [
    "# Fill the null values in state averages with national averages\n",
    "columns = hw_US_mean_df.columns.to_list()\n",
    "columns.remove('presence_of_water_violation')\n",
    "for col in columns:\n",
    "    hw_state[col].fillna(hw_US_mean_df[col][0], inplace=True)"
   ]
  },
  {
   "cell_type": "code",
   "execution_count": 98,
   "metadata": {},
   "outputs": [],
   "source": [
    "# Fill the null values in date filtered dataframe with state averages dataframe\n",
    "hw_merged = hw_date.merge(hw_state,on='state', how='left')\n",
    "x_col = [col for col in hw_merged.columns if col.endswith('_x')==True]\n",
    "y_col = [col for col in hw_merged.columns if col.endswith('_y')==True]\n",
    "\n",
    "for col in x_col:\n",
    "    hw_merged[col] = np.where(hw_merged[col].isnull()==False, hw_merged[col], hw_merged[col.replace(\"_x\",\"_y\")])\n",
    "    \n",
    "hw_merged.drop(columns=y_col, inplace=True)\n",
    "hw_merged.columns = [col.replace(\"_x\",\"\") for col in hw_merged.columns.to_list()]"
   ]
  },
  {
   "cell_type": "code",
   "execution_count": 99,
   "metadata": {},
   "outputs": [],
   "source": [
    "# QC on the process to make sure all the null values has been replaced except for the columns with all values as NA values\n",
    "hw_merged_na = []\n",
    "for col in hw_merged.columns:\n",
    "    if hw_merged[col].isnull().nunique() == 1 and hw_merged[col].isnull().unique()[0] == False:\n",
    "        continue\n",
    "    else:\n",
    "        hw_merged_na.append(col)\n",
    "        \n",
    "set(hw_merged_na)-set(col_wo_US_mean)\n",
    "# 'presence_of_water_violation' is a boolean field - so out of the game!\n",
    "hw_merged_na.remove('presence_of_water_violation')"
   ]
  },
  {
   "cell_type": "code",
   "execution_count": 100,
   "metadata": {},
   "outputs": [
    {
     "data": {
      "text/plain": [
       "['CALL',\n",
       " 'station_id',\n",
       " 'station_name',\n",
       " 'mean_temp',\n",
       " 'min_temp',\n",
       " 'max_temp',\n",
       " 'dewpoint',\n",
       " 'sea_level_pressure',\n",
       " 'station_pressure',\n",
       " 'visibility',\n",
       " 'wind_speed',\n",
       " 'max_wind_speed',\n",
       " 'wind_gust',\n",
       " 'precipitation',\n",
       " 'precip_flag',\n",
       " 'fog',\n",
       " 'rain',\n",
       " 'snow',\n",
       " 'hail',\n",
       " 'thunder',\n",
       " 'tornado',\n",
       " 'mean_temp_3d_avg',\n",
       " 'mean_temp_5d_avg',\n",
       " 'mean_temp_10d_avg',\n",
       " 'mean_temp_15d_avg',\n",
       " 'max_temp_3d_avg',\n",
       " 'max_temp_5d_avg',\n",
       " 'max_temp_10d_avg',\n",
       " 'max_temp_15d_avg',\n",
       " 'min_temp_3d_avg',\n",
       " 'min_temp_5d_avg',\n",
       " 'min_temp_10d_avg',\n",
       " 'min_temp_15d_avg',\n",
       " 'dewpoint_3d_avg',\n",
       " 'dewpoint_5d_avg',\n",
       " 'dewpoint_10d_avg',\n",
       " 'dewpoint_15d_avg',\n",
       " 'date_stay_at_home_announced',\n",
       " 'date_stay_at_home_effective']"
      ]
     },
     "execution_count": 100,
     "metadata": {},
     "output_type": "execute_result"
    }
   ],
   "source": [
    "hw_merged_na"
   ]
  },
  {
   "cell_type": "code",
   "execution_count": 73,
   "metadata": {},
   "outputs": [
    {
     "data": {
      "text/plain": [
       "{'county',\n",
       " 'date',\n",
       " 'fips',\n",
       " 'state',\n",
       " 'stay_at_home_announced',\n",
       " 'stay_at_home_effective'}"
      ]
     },
     "execution_count": 73,
     "metadata": {},
     "output_type": "execute_result"
    }
   ],
   "source": [
    "set(col_wo_US_mean)-set(hw_merged_na)"
   ]
  },
  {
   "cell_type": "code",
   "execution_count": 89,
   "metadata": {},
   "outputs": [],
   "source": [
    "# Drop the columns that are all NA values\n",
    "#hw_merged.drop(columns=hw_merged_na, inplace=True)"
   ]
  },
  {
   "cell_type": "code",
   "execution_count": 103,
   "metadata": {},
   "outputs": [],
   "source": [
    "# Replace the columns that are all NA values with \"0\"\n",
    "hw_merged.fillna('0', inplace=True)"
   ]
  },
  {
   "cell_type": "code",
   "execution_count": 104,
   "metadata": {},
   "outputs": [],
   "source": [
    "hw_merged.to_csv('US_counties_COVID19_health_weather_data_replaced_na.csv', index=False)"
   ]
  }
 ],
 "metadata": {
  "kernelspec": {
   "display_name": "mlenv",
   "language": "python",
   "name": "mlenv"
  },
  "language_info": {
   "codemirror_mode": {
    "name": "ipython",
    "version": 3
   },
   "file_extension": ".py",
   "mimetype": "text/x-python",
   "name": "python",
   "nbconvert_exporter": "python",
   "pygments_lexer": "ipython3",
   "version": "3.7.7"
  }
 },
 "nbformat": 4,
 "nbformat_minor": 4
}
